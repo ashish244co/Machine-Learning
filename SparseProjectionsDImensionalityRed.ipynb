{
 "cells": [
  {
   "cell_type": "markdown",
   "metadata": {},
   "source": [
    "# Note: I have used MNIST data set here which has high dimension (768) so it may take a lot of time to train multiple models."
   ]
  },
  {
   "cell_type": "code",
   "execution_count": 0,
   "metadata": {
    "colab": {},
    "colab_type": "code",
    "id": "MA8FVoAZgAqk"
   },
   "outputs": [],
   "source": [
    "from sklearn.random_projection import johnson_lindenstrauss_min_dim\n",
    "from sklearn.random_projection import SparseRandomProjection\n",
    "from sklearn.svm import LinearSVC\n",
    "from sklearn.model_selection import train_test_split\n",
    "from sklearn import metrics\n",
    "from sklearn import datasets\n",
    "import warnings\n",
    "warnings.filterwarnings('ignore') \n",
    "import matplotlib.pyplot as plt\n",
    "import numpy as np\n",
    "from sklearn.datasets import fetch_openml\n",
    "from sklearn.model_selection import train_test_split\n",
    "from sklearn.preprocessing import StandardScaler"
   ]
  },
  {
   "cell_type": "code",
   "execution_count": 0,
   "metadata": {
    "colab": {},
    "colab_type": "code",
    "id": "bqv4lW4Shxxh"
   },
   "outputs": [],
   "source": [
    "X, y = fetch_openml('mnist_784', version=1, return_X_y=True)"
   ]
  },
  {
   "cell_type": "code",
   "execution_count": 0,
   "metadata": {
    "colab": {},
    "colab_type": "code",
    "id": "KgYJdTIIii1a"
   },
   "outputs": [],
   "source": [
    "X_train, X_test, y_train, y_test = train_test_split(X,y,test_size=0.3)"
   ]
  },
  {
   "cell_type": "code",
   "execution_count": 0,
   "metadata": {
    "colab": {},
    "colab_type": "code",
    "id": "vRuuBi4-iq7S"
   },
   "outputs": [],
   "source": [
    "sc = StandardScaler() \n",
    "XtrainSc=sc.fit_transform(X_train)\n",
    "XtestSc=sc.transform(X_test)"
   ]
  },
  {
   "cell_type": "code",
   "execution_count": 5,
   "metadata": {
    "colab": {
     "base_uri": "https://localhost:8080/",
     "height": 212
    },
    "colab_type": "code",
    "id": "ODjQXvDCh5iE",
    "outputId": "7c6160ba-1fb6-4df2-b171-ea3b22eda7df"
   },
   "outputs": [
    {
     "data": {
      "image/png": "[encoded data removed]",
      "text/plain": [
       "<Figure size 216x216 with 1 Axes>"
      ]
     },
     "metadata": {
      "needs_background": "light",
      "tags": []
     },
     "output_type": "display_data"
    }
   ],
   "source": [
    "plt.figure(1, figsize=(3, 3))\n",
    "plt.imshow(X[0].reshape(28,28), interpolation='nearest')\n",
    "plt.show()"
   ]
  },
  {
   "cell_type": "code",
   "execution_count": 6,
   "metadata": {
    "colab": {
     "base_uri": "https://localhost:8080/",
     "height": 34
    },
    "colab_type": "code",
    "id": "rQA5X0UZiFqh",
    "outputId": "12b52839-6377-4b29-8b76-4a819a850e4b"
   },
   "outputs": [
    {
     "name": "stdout",
     "output_type": "stream",
     "text": [
      "Professors Johnson and Lindenstrauss say: k >= 9562\n"
     ]
    }
   ],
   "source": [
    "print (\"Professors Johnson and Lindenstrauss say: k >=\", johnson_lindenstrauss_min_dim(len(X),eps=0.1))"
   ]
  },
  {
   "cell_type": "markdown",
   "metadata": {},
   "source": [
    "# For ease of computation one can create smaller steps of dimensions for examples:\n",
    "# dims = np.int32(np.linspace(2, 768, 10))\n",
    "# instead of dims = np.int32(np.linspace(2, 768, 20))"
   ]
  },
  {
   "cell_type": "code",
   "execution_count": 0,
   "metadata": {
    "colab": {},
    "colab_type": "code",
    "id": "o-V9p2o1iR7R"
   },
   "outputs": [],
   "source": [
    "model = LinearSVC(max_iter=100)\n",
    "model.fit(XtrainSc, y_train)\n",
    "baseline = metrics.accuracy_score(y_test, model.predict(XtestSc))\n",
    "accuracies = []\n",
    "dims = np.int32(np.linspace(2, 768, 20))"
   ]
  },
  {
   "cell_type": "code",
   "execution_count": 0,
   "metadata": {
    "colab": {},
    "colab_type": "code",
    "id": "4GYKJMRakETk"
   },
   "outputs": [],
   "source": [
    "for dim in dims:\n",
    "    # Create random projection\n",
    "    sp = SparseRandomProjection(n_components = dim)\n",
    "    X = sp.fit_transform(XtrainSc)\n",
    " \n",
    "    # Train classifier of your choice on the sparse random projection\n",
    "    model = LinearSVC(max_iter=100)\n",
    "    model.fit(X, y_train)\n",
    " \n",
    "    # Evaluate model and update accuracies\n",
    "    test = sp.transform(XtestSc)\n",
    "    accuracies.append(metrics.accuracy_score(y_test,model.predict(test)))"
   ]
  },
  {
   "cell_type": "code",
   "execution_count": 9,
   "metadata": {
    "colab": {
     "base_uri": "https://localhost:8080/",
     "height": 283
    },
    "colab_type": "code",
    "id": "TbrsFZSikZRW",
    "outputId": "f4ce0aaf-0d77-4cce-a429-2f519d690d8a"
   },
   "outputs": [
    {
     "data": {
      "image/png": "[encoded data removed]",
      "text/plain": [
       "<Figure size 432x288 with 1 Axes>"
      ]
     },
     "metadata": {
      "needs_background": "light",
      "tags": []
     },
     "output_type": "display_data"
    }
   ],
   "source": [
    "plt.figure()\n",
    "plt.xlabel(\"# of dimensions k\")\n",
    "plt.ylabel(\"Accuracy\")\n",
    "plt.xlim([2, 768])\n",
    "plt.ylim([0, 1])\n",
    " \n",
    "# Plot baseline and random projection accuracies\n",
    "plt.plot(dims, [baseline] * len(accuracies), color = \"r\")\n",
    "plt.plot(dims, accuracies)\n",
    "\n",
    "plt.show()"
   ]
  },
  {
   "cell_type": "markdown",
   "metadata": {},
   "source": [
    "We can see here dimension around 400 can give use reasonable results. Hence we can reduce upto 400 for dimension from 768 and still get similar accuaracy."
   ]
  }
 ],
 "metadata": {
  "colab": {
   "name": "AshishKashav_Assignment3.ipynb",
   "provenance": []
  },
  "kernelspec": {
   "display_name": "Python 3",
   "language": "python",
   "name": "python3"
  },
  "language_info": {
   "codemirror_mode": {
    "name": "ipython",
    "version": 3
   },
   "file_extension": ".py",
   "mimetype": "text/x-python",
   "name": "python",
   "nbconvert_exporter": "python",
   "pygments_lexer": "ipython3",
   "version": "3.7.3"
  }
 },
 "nbformat": 4,
 "nbformat_minor": 1
}
